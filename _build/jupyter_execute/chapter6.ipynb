{
 "cells": [
  {
   "attachments": {},
   "cell_type": "markdown",
   "metadata": {},
   "source": [
    "# StringIO\n",
    "\n",
    "+ intro to bc\n",
    "+ some [notes](https://smart-stats.github.io/ds4bio_book/book/_build/html/binary_classification.html)\n",
    "+ jupyter-lab\n",
    "+ vscode (not optimal)\n",
    "+ differences?\n",
    "+ requests, io, warnings"
   ]
  },
  {
   "attachments": {},
   "cell_type": "markdown",
   "metadata": {},
   "source": [
    "```\n",
    "cp python.ipynb ../3.dna.origins/training/chapter7.ipynb\n",
    "nano ../3.dna.origins/training/_toc.yml\n",
    "```"
   ]
  },
  {
   "attachments": {},
   "cell_type": "markdown",
   "metadata": {},
   "source": [
    "[ds4ph](https://muzaale.github.io/bcmodel/_downloads/dbddf49b0d4411d2f6af7f2b50aa6d0d/ds4ph.syllabus.pdf)[.](ds4ph.syllabus.md)[syllabus](ds4ph.syllabus.ipynb)"
   ]
  }
 ],
 "metadata": {
  "kernelspec": {
   "display_name": "Python 3",
   "language": "python",
   "name": "python3"
  },
  "language_info": {
   "codemirror_mode": {
    "name": "ipython",
    "version": 3
   },
   "file_extension": ".py",
   "mimetype": "text/x-python",
   "name": "python",
   "nbconvert_exporter": "python",
   "pygments_lexer": "ipython3",
   "version": "3.11.2"
  }
 },
 "nbformat": 4,
 "nbformat_minor": 2
}