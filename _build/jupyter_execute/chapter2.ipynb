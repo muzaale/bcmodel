{
 "cells": [
  {
   "attachments": {},
   "cell_type": "markdown",
   "metadata": {},
   "source": [
    "# io"
   ]
  },
  {
   "attachments": {},
   "cell_type": "markdown",
   "metadata": {},
   "source": [
    "+ training\n",
    "+ bcmodel\n",
    "+ myphotos\n",
    "+ vsothers\n",
    "+ learning\n",
    "     + unsupervised *\n",
    "     + supervised\n",
    "     + adaptive "
   ]
  },
  {
   "attachments": {},
   "cell_type": "markdown",
   "metadata": {},
   "source": [
    "## jupyter\n",
    "\n",
    "Why do I need to jump through the extra hoops to get [this](https://smart-stats.github.io/ds4bio_book/book/_build/html/data_cleaning.html) to work on my machine?\n",
    "\n",
    "```stata\n",
    "import requests\n",
    "import pandas as pd\n",
    "import io \n",
    "\n",
    "url = \"https://raw.githubusercontent.com/bcaffo/ds4bme_intro/master/data/kirby127a_3_1_ax_283Labels_M2_corrected_stats.csv\"\n",
    "\n",
    "response = requests.get(url)\n",
    "content = response.content.decode('utf-8')\n",
    "\n",
    "df = pd.read_csv(io.StringIO(content))\n",
    "```\n",
    "\n"
   ]
  }
 ],
 "metadata": {
  "kernelspec": {
   "display_name": "Python 3",
   "language": "python",
   "name": "python3"
  },
  "language_info": {
   "codemirror_mode": {
    "name": "ipython",
    "version": 3
   },
   "file_extension": ".py",
   "mimetype": "text/x-python",
   "name": "python",
   "nbconvert_exporter": "python",
   "pygments_lexer": "ipython3",
   "version": "3.11.2"
  }
 },
 "nbformat": 4,
 "nbformat_minor": 2
}