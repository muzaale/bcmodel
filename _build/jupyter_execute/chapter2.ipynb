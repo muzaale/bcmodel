{
 "cells": [
  {
   "attachments": {},
   "cell_type": "markdown",
   "metadata": {},
   "source": [
    "# 05/10/2023\n",
    "\n",
    "## Take1"
   ]
  },
  {
   "cell_type": "code",
   "execution_count": 1,
   "metadata": {},
   "outputs": [
    {
     "name": "stderr",
     "output_type": "stream",
     "text": [
      "2023-05-10 17:28:32.960374: I tensorflow/core/platform/cpu_feature_guard.cc:182] This TensorFlow binary is optimized to use available CPU instructions in performance-critical operations.\n",
      "To enable the following instructions: AVX2 FMA, in other operations, rebuild TensorFlow with the appropriate compiler flags.\n"
     ]
    },
    {
     "name": "stdout",
     "output_type": "stream",
     "text": [
      "Found 632 images belonging to 2 classes.\n"
     ]
    },
    {
     "name": "stdout",
     "output_type": "stream",
     "text": [
      "Found 0 images belonging to 0 classes.\n"
     ]
    },
    {
     "name": "stdout",
     "output_type": "stream",
     "text": [
      "Epoch 1/10\n"
     ]
    },
    {
     "name": "stderr",
     "output_type": "stream",
     "text": [
      "2023-05-10 17:28:37.232765: I tensorflow/core/common_runtime/executor.cc:1197] [/device:CPU:0] (DEBUG INFO) Executor start aborting (this does not indicate an error and you can ignore this message): INVALID_ARGUMENT: You must feed a value for placeholder tensor 'Placeholder/_0' with dtype int32\n",
      "\t [[{{node Placeholder/_0}}]]\n"
     ]
    },
    {
     "name": "stdout",
     "output_type": "stream",
     "text": [
      "\r",
      " 1/20 [>.............................] - ETA: 45s - loss: 87.1491 - accuracy: 0.0938"
     ]
    },
    {
     "name": "stdout",
     "output_type": "stream",
     "text": [
      "\b\b\b\b\b\b\b\b\b\b\b\b\b\b\b\b\b\b\b\b\b\b\b\b\b\b\b\b\b\b\b\b\b\b\b\b\b\b\b\b\b\b\b\b\b\b\b\b\b\b\b\b\b\b\b\b\b\b\b\b\b\b\b\b\b\b\b\b\b\b\b\b\b\b\b\b\b\b\b\b\b\b\b\b\r",
      " 2/20 [==>...........................] - ETA: 37s - loss: 112.9971 - accuracy: 0.5312"
     ]
    },
    {
     "name": "stdout",
     "output_type": "stream",
     "text": [
      "\b\b\b\b\b\b\b\b\b\b\b\b\b\b\b\b\b\b\b\b\b\b\b\b\b\b\b\b\b\b\b\b\b\b\b\b\b\b\b\b\b\b\b\b\b\b\b\b\b\b\b\b\b\b\b\b\b\b\b\b\b\b\b\b\b\b\b\b\b\b\b\b\b\b\b\b\b\b\b\b\b\b\b\b\b\r",
      " 3/20 [===>..........................] - ETA: 34s - loss: 329.8365 - accuracy: 0.6458"
     ]
    },
    {
     "name": "stdout",
     "output_type": "stream",
     "text": [
      "\b\b\b\b\b\b\b\b\b\b\b\b\b\b\b\b\b\b\b\b\b\b\b\b\b\b\b\b\b\b\b\b\b\b\b\b\b\b\b\b\b\b\b\b\b\b\b\b\b\b\b\b\b\b\b\b\b\b\b\b\b\b\b\b\b\b\b\b\b\b\b\b\b\b\b\b\b\b\b\b\b\b\b\b\b\r",
      " 4/20 [=====>........................] - ETA: 32s - loss: 323.2376 - accuracy: 0.7266"
     ]
    },
    {
     "name": "stdout",
     "output_type": "stream",
     "text": [
      "\b\b\b\b\b\b\b\b\b\b\b\b\b\b\b\b\b\b\b\b\b\b\b\b\b\b\b\b\b\b\b\b\b\b\b\b\b\b\b\b\b\b\b\b\b\b\b\b\b\b\b\b\b\b\b\b\b\b\b\b\b\b\b\b\b\b\b\b\b\b\b\b\b\b\b\b\b\b\b\b\b\b\b\b\b\r",
      " 5/20 [======>.......................] - ETA: 29s - loss: 359.7760 - accuracy: 0.7688"
     ]
    },
    {
     "name": "stdout",
     "output_type": "stream",
     "text": [
      "\b\b\b\b\b\b\b\b\b\b\b\b\b\b\b\b\b\b\b\b\b\b\b\b\b\b\b\b\b\b\b\b\b\b\b\b\b\b\b\b\b\b\b\b\b\b\b\b\b\b\b\b\b\b\b\b\b\b\b\b\b\b\b\b\b\b\b\b\b\b\b\b\b\b\b\b\b\b\b\b\b\b\b\b\b\r",
      " 6/20 [========>.....................] - ETA: 27s - loss: 461.1711 - accuracy: 0.7865"
     ]
    },
    {
     "name": "stdout",
     "output_type": "stream",
     "text": [
      "\b\b\b\b\b\b\b\b\b\b\b\b\b\b\b\b\b\b\b\b\b\b\b\b\b\b\b\b\b\b\b\b\b\b\b\b\b\b\b\b\b\b\b\b\b\b\b\b\b\b\b\b\b\b\b\b\b\b\b\b\b\b\b\b\b\b\b\b\b\b\b\b\b\b\b\b\b\b\b\b\b\b\b\b\b\r",
      " 7/20 [=========>....................] - ETA: 26s - loss: 534.6555 - accuracy: 0.8036"
     ]
    },
    {
     "name": "stdout",
     "output_type": "stream",
     "text": [
      "\b\b\b\b\b\b\b\b\b\b\b\b\b\b\b\b\b\b\b\b\b\b\b\b\b\b\b\b\b\b\b\b\b\b\b\b\b\b\b\b\b\b\b\b\b\b\b\b\b\b\b\b\b\b\b\b\b\b\b\b\b\b\b\b\b\b\b\b\b\b\b\b\b\b\b\b\b\b\b\b\b\b\b\b\b\r",
      " 8/20 [===========>..................] - ETA: 24s - loss: 565.4740 - accuracy: 0.8164"
     ]
    },
    {
     "name": "stdout",
     "output_type": "stream",
     "text": [
      "\b\b\b\b\b\b\b\b\b\b\b\b\b\b\b\b\b\b\b\b\b\b\b\b\b\b\b\b\b\b\b\b\b\b\b\b\b\b\b\b\b\b\b\b\b\b\b\b\b\b\b\b\b\b\b\b\b\b\b\b\b\b\b\b\b\b\b\b\b\b\b\b\b\b\b\b\b\b\b\b\b\b\b\b\b\r",
      " 9/20 [============>.................] - ETA: 22s - loss: 604.0518 - accuracy: 0.8229"
     ]
    },
    {
     "name": "stdout",
     "output_type": "stream",
     "text": [
      "\b\b\b\b\b\b\b\b\b\b\b\b\b\b\b\b\b\b\b\b\b\b\b\b\b\b\b\b\b\b\b\b\b\b\b\b\b\b\b\b\b\b\b\b\b\b\b\b\b\b\b\b\b\b\b\b\b\b\b\b\b\b\b\b\b\b\b\b\b\b\b\b\b\b\b\b\b\b\b\b\b\b\b\b\b\r",
      "10/20 [==============>...............] - ETA: 20s - loss: 591.1743 - accuracy: 0.8344"
     ]
    },
    {
     "name": "stdout",
     "output_type": "stream",
     "text": [
      "\b\b\b\b\b\b\b\b\b\b\b\b\b\b\b\b\b\b\b\b\b\b\b\b\b\b\b\b\b\b\b\b\b\b\b\b\b\b\b\b\b\b\b\b\b\b\b\b\b\b\b\b\b\b\b\b\b\b\b\b\b\b\b\b\b\b\b\b\b\b\b\b\b\b\b\b\b\b\b\b\b\b\b\b\b\r",
      "11/20 [===============>..............] - ETA: 18s - loss: 552.4883 - accuracy: 0.8466"
     ]
    },
    {
     "name": "stdout",
     "output_type": "stream",
     "text": [
      "\b\b\b\b\b\b\b\b\b\b\b\b\b\b\b\b\b\b\b\b\b\b\b\b\b\b\b\b\b\b\b\b\b\b\b\b\b\b\b\b\b\b\b\b\b\b\b\b\b\b\b\b\b\b\b\b\b\b\b\b\b\b\b\b\b\b\b\b\b\b\b\b\b\b\b\b\b\b\b\b\b\b\b\b\b\r",
      "12/20 [=================>............] - ETA: 15s - loss: 529.2424 - accuracy: 0.8537"
     ]
    }
   ],
   "source": [
    "import os\n",
    "import tensorflow as tf\n",
    "\n",
    "# Set the directory to save the model and data\n",
    "directory = \"/Users/d/Dropbox (Personal)/0g.κοσμογονία,γ/2.pantheon\"\n",
    "\n",
    "# Create train, val, test folders if they don't exist\n",
    "train_dir = os.path.join(directory, \"train\")\n",
    "val_dir = os.path.join(directory, \"val\")\n",
    "test_dir = os.path.join(directory, \"test\")\n",
    "for folder in [train_dir, val_dir, test_dir]:\n",
    "    if not os.path.exists(folder):\n",
    "        os.makedirs(folder)\n",
    "\n",
    "# Set up the data generators for training and validation\n",
    "train_data = tf.keras.preprocessing.image.ImageDataGenerator()\n",
    "train_generator = train_data.flow_from_directory(train_dir, target_size=(224, 224), batch_size=32, class_mode=\"binary\")\n",
    "val_data = tf.keras.preprocessing.image.ImageDataGenerator()\n",
    "val_generator = val_data.flow_from_directory(val_dir, target_size=(224, 224), batch_size=32, class_mode=\"binary\")\n",
    "\n",
    "# Set up the model\n",
    "model = tf.keras.Sequential([\n",
    "    tf.keras.layers.Conv2D(16, (3,3), activation=\"relu\", input_shape=(224,224,3)),\n",
    "    tf.keras.layers.MaxPooling2D(2,2),\n",
    "    tf.keras.layers.Flatten(),\n",
    "    tf.keras.layers.Dense(1, activation=\"sigmoid\")\n",
    "])\n",
    "model.compile(loss=\"binary_crossentropy\", optimizer=\"adam\", metrics=[\"accuracy\"])\n",
    "\n",
    "# Train the model\n",
    "model.fit(train_generator, epochs=10, validation_data=val_generator)\n",
    "\n",
    "# Save the model\n",
    "model.save(os.path.join(directory, \"model.h5\"))\n"
   ]
  },
  {
   "attachments": {},
   "cell_type": "markdown",
   "metadata": {},
   "source": [
    "## Take2"
   ]
  },
  {
   "cell_type": "code",
   "execution_count": 1,
   "metadata": {},
   "outputs": [
    {
     "name": "stderr",
     "output_type": "stream",
     "text": [
      "2023-05-10 15:16:19.115451: I tensorflow/core/platform/cpu_feature_guard.cc:182] This TensorFlow binary is optimized to use available CPU instructions in performance-critical operations.\n",
      "To enable the following instructions: AVX2 FMA, in other operations, rebuild TensorFlow with the appropriate compiler flags.\n"
     ]
    },
    {
     "name": "stdout",
     "output_type": "stream",
     "text": [
      "Found 632 images belonging to 2 classes.\n",
      "Found 0 images belonging to 0 classes.\n",
      "Epoch 1/10\n"
     ]
    },
    {
     "name": "stderr",
     "output_type": "stream",
     "text": [
      "2023-05-10 15:16:38.354653: I tensorflow/core/common_runtime/executor.cc:1197] [/device:CPU:0] (DEBUG INFO) Executor start aborting (this does not indicate an error and you can ignore this message): INVALID_ARGUMENT: You must feed a value for placeholder tensor 'Placeholder/_0' with dtype int32\n",
      "\t [[{{node Placeholder/_0}}]]\n"
     ]
    },
    {
     "name": "stdout",
     "output_type": "stream",
     "text": [
      "20/20 [==============================] - 42s 2s/step - loss: 786.2231 - accuracy: 0.8623\n",
      "Epoch 2/10\n",
      "20/20 [==============================] - 42s 2s/step - loss: 59.3953 - accuracy: 0.8513\n",
      "Epoch 3/10\n",
      "20/20 [==============================] - 41s 2s/step - loss: 15.4495 - accuracy: 0.9035\n",
      "Epoch 4/10\n",
      "20/20 [==============================] - 42s 2s/step - loss: 4.7708 - accuracy: 0.9415\n",
      "Epoch 5/10\n",
      "20/20 [==============================] - 44s 2s/step - loss: 0.7124 - accuracy: 0.9684\n",
      "Epoch 6/10\n",
      "20/20 [==============================] - 43s 2s/step - loss: 0.3184 - accuracy: 0.9842\n",
      "Epoch 7/10\n",
      "20/20 [==============================] - 42s 2s/step - loss: 0.0626 - accuracy: 0.9937\n",
      "Epoch 8/10\n",
      "20/20 [==============================] - 42s 2s/step - loss: 0.0165 - accuracy: 0.9984\n",
      "Epoch 9/10\n",
      "20/20 [==============================] - 43s 2s/step - loss: 7.2328e-04 - accuracy: 1.0000\n",
      "Epoch 10/10\n",
      "20/20 [==============================] - 43s 2s/step - loss: 6.9006e-07 - accuracy: 1.0000\n"
     ]
    }
   ],
   "source": [
    "import os\n",
    "import tensorflow as tf\n",
    "\n",
    "# Set the directory to save the model and data\n",
    "directory = \"/Users/d/Dropbox (Personal)/0g.κοσμογονία,γ/2.pantheon\"\n",
    "\n",
    "# Create train, val, test folders if they don't exist\n",
    "train_dir = os.path.join(directory, \"train\")\n",
    "val_dir = os.path.join(directory, \"val\")\n",
    "test_dir = os.path.join(directory, \"test\")\n",
    "for folder in [train_dir, val_dir, test_dir]:\n",
    "    if not os.path.exists(folder):\n",
    "        os.makedirs(folder)\n",
    "\n",
    "# Set up the data generators for training and validation\n",
    "train_data = tf.keras.preprocessing.image.ImageDataGenerator()\n",
    "train_generator = train_data.flow_from_directory(os.path.join(train_dir), target_size=(224, 224), batch_size=32, class_mode=\"binary\", classes=['no', 'yes'])\n",
    "val_data = tf.keras.preprocessing.image.ImageDataGenerator()\n",
    "val_generator = val_data.flow_from_directory(val_dir, target_size=(224, 224), batch_size=32, class_mode=\"binary\")\n",
    "\n",
    "# Set up the model\n",
    "model = tf.keras.Sequential([\n",
    "    tf.keras.layers.Conv2D(16, (3,3), activation=\"relu\", input_shape=(224,224,3)),\n",
    "    tf.keras.layers.MaxPooling2D(2,2),\n",
    "    tf.keras.layers.Flatten(),\n",
    "    tf.keras.layers.Dense(1, activation=\"sigmoid\")\n",
    "])\n",
    "model.compile(loss=\"binary_crossentropy\", optimizer=\"adam\", metrics=[\"accuracy\"])\n",
    "\n",
    "# Train the model\n",
    "model.fit(train_generator, epochs=10, validation_data=val_generator)\n",
    "\n",
    "# Save the model\n",
    "model.save(os.path.join(directory, \"model.h5\"))\n"
   ]
  },
  {
   "attachments": {},
   "cell_type": "markdown",
   "metadata": {},
   "source": [
    "```stata\n",
    "7m 30.3s\n",
    "\n",
    "2023-05-10 15:16:19.115451: I tensorflow/core/platform/cpu_feature_guard.cc:182] This TensorFlow binary is optimized to use available CPU instructions in performance-critical operations.\n",
    "To enable the following instructions: AVX2 FMA, in other operations, rebuild TensorFlow with the appropriate compiler flags.\n",
    "Found 632 images belonging to 2 classes.\n",
    "Found 0 images belonging to 0 classes.\n",
    "Epoch 1/10\n",
    "2023-05-10 15:16:38.354653: I tensorflow/core/common_runtime/executor.cc:1197] [/device:CPU:0] (DEBUG INFO) Executor start aborting (this does not indicate an error and you can ignore this message): INVALID_ARGUMENT: You must feed a value for placeholder tensor 'Placeholder/_0' with dtype int32\n",
    "\t [[{{node Placeholder/_0}}]]\n",
    "20/20 [==============================] - 42s 2s/step - loss: 786.2231 - accuracy: 0.8623\n",
    "Epoch 2/10\n",
    "20/20 [==============================] - 42s 2s/step - loss: 59.3953 - accuracy: 0.8513\n",
    "Epoch 3/10\n",
    "20/20 [==============================] - 41s 2s/step - loss: 15.4495 - accuracy: 0.9035\n",
    "Epoch 4/10\n",
    "20/20 [==============================] - 42s 2s/step - loss: 4.7708 - accuracy: 0.9415\n",
    "Epoch 5/10\n",
    "20/20 [==============================] - 44s 2s/step - loss: 0.7124 - accuracy: 0.9684\n",
    "Epoch 6/10\n",
    "20/20 [==============================] - 43s 2s/step - loss: 0.3184 - accuracy: 0.9842\n",
    "Epoch 7/10\n",
    "20/20 [==============================] - 42s 2s/step - loss: 0.0626 - accuracy: 0.9937\n",
    "Epoch 8/10\n",
    "20/20 [==============================] - 42s 2s/step - loss: 0.0165 - accuracy: 0.9984\n",
    "Epoch 9/10\n",
    "20/20 [==============================] - 43s 2s/step - loss: 7.2328e-04 - accuracy: 1.0000\n",
    "Epoch 10/10\n",
    "20/20 [==============================] - 43s 2s/step - loss: 6.9006e-07 - accuracy: 1.0000\n",
    "\n",
    "```"
   ]
  }
 ],
 "metadata": {
  "kernelspec": {
   "display_name": "Python 3",
   "language": "python",
   "name": "python3"
  },
  "language_info": {
   "codemirror_mode": {
    "name": "ipython",
    "version": 3
   },
   "file_extension": ".py",
   "mimetype": "text/x-python",
   "name": "python",
   "nbconvert_exporter": "python",
   "pygments_lexer": "ipython3",
   "version": "3.11.2"
  }
 },
 "nbformat": 4,
 "nbformat_minor": 2
}