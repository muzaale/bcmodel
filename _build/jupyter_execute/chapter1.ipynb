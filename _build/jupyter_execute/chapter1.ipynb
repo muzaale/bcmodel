{
 "cells": [
  {
   "attachments": {},
   "cell_type": "markdown",
   "metadata": {},
   "source": [
    "# requests"
   ]
  },
  {
   "attachments": {},
   "cell_type": "markdown",
   "metadata": {},
   "source": [
    "+ 0g.κοσμογονία,γ/3.dna.origins/.git\n",
    "+ vscode -> terminal\n",
    "+ https://muzaale.github.io/ \n",
    "\n",
    "```\n",
    "pwd\n",
    "~/dropbox/0g.κοσμογονία,γ/2.pantheon\n",
    "cp python.ipynb ../3.dna.origins/training/chapter7.ipynb\n",
    "nano ../3.dna.origins/training/_toc.yml\n",
    "ls -l ../3.dna.origins/training/\n",
    "mv ../3.dna.origins/training/python.ipynb ../3.dna.origins/training/chapter6.ipynb\n",
    "cp ../3.dna.origins/training/chapter6.ipynb ../3.dna.origins/training/chapter9.ipynb\n",
    "\n",
    "```"
   ]
  }
 ],
 "metadata": {
  "kernelspec": {
   "display_name": "Python 3",
   "language": "python",
   "name": "python3"
  },
  "language_info": {
   "codemirror_mode": {
    "name": "ipython",
    "version": 3
   },
   "file_extension": ".py",
   "mimetype": "text/x-python",
   "name": "python",
   "nbconvert_exporter": "python",
   "pygments_lexer": "ipython3",
   "version": "3.11.2"
  }
 },
 "nbformat": 4,
 "nbformat_minor": 2
}