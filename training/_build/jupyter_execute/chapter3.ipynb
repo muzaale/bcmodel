{
 "cells": [
  {
   "attachments": {},
   "cell_type": "markdown",
   "metadata": {},
   "source": [
    "# url"
   ]
  },
  {
   "attachments": {},
   "cell_type": "markdown",
   "metadata": {},
   "source": [
    "## 05/13/2023"
   ]
  },
  {
   "attachments": {},
   "cell_type": "markdown",
   "metadata": {},
   "source": [
    "### chatGPT"
   ]
  },
  {
   "attachments": {},
   "cell_type": "markdown",
   "metadata": {},
   "source": [
    "+ Training a binary classification model\n",
    "+ I asked chatGPT for a crash course\n",
    "+ Embedding, coding, decoding\n",
    "+ And this is what it offered "
   ]
  },
  {
   "attachments": {},
   "cell_type": "markdown",
   "metadata": {},
   "source": [
    "```\n",
    "import os\n",
    "import tensorflow as tf\n",
    "\n",
    "# Set the directory to save the model and data\n",
    "directory = \"/Users/d/Dropbox (Personal)/0g.κοσμογονία,γ/2.pantheon\"\n",
    "\n",
    "# Create train, val, test folders if they don't exist\n",
    "train_dir = os.path.join(directory, \"train\")\n",
    "val_dir = os.path.join(directory, \"val\")\n",
    "test_dir = os.path.join(directory, \"test\")\n",
    "for folder in [train_dir, val_dir, test_dir]:\n",
    "    if not os.path.exists(folder):\n",
    "        os.makedirs(folder)\n",
    "\n",
    "# Set up the data generators for training and validation\n",
    "train_data = tf.keras.preprocessing.image.ImageDataGenerator()\n",
    "train_generator = train_data.flow_from_directory(os.path.join(train_dir), target_size=(224, 224), batch_size=32, class_mode=\"binary\", classes=['no', 'yes'])\n",
    "val_data = tf.keras.preprocessing.image.ImageDataGenerator()\n",
    "val_generator = val_data.flow_from_directory(val_dir, target_size=(224, 224), batch_size=32, class_mode=\"binary\")\n",
    "\n",
    "# Set up the model\n",
    "model = tf.keras.Sequential([\n",
    "    tf.keras.layers.Conv2D(16, (3,3), activation=\"relu\", input_shape=(224,224,3)),\n",
    "    tf.keras.layers.MaxPooling2D(2,2),\n",
    "    tf.keras.layers.Flatten(),\n",
    "    tf.keras.layers.Dense(1, activation=\"sigmoid\")\n",
    "])\n",
    "model.compile(loss=\"binary_crossentropy\", optimizer=\"adam\", metrics=[\"accuracy\"])\n",
    "\n",
    "# Train the model\n",
    "model.fit(train_generator, epochs=10, validation_data=val_generator)\n",
    "\n",
    "# Save the model\n",
    "model.save(os.path.join(directory, \"model.h5\"))\n",
    "\n",
    "```"
   ]
  },
  {
   "attachments": {},
   "cell_type": "markdown",
   "metadata": {},
   "source": [
    "\n",
    "```stata\n",
    "7m 12.4s\n",
    "\n",
    "2023-05-13 12:09:31.359433: I tensorflow/core/platform/cpu_feature_guard.cc:182] This TensorFlow binary is optimized to use available CPU instructions in performance-critical operations.\n",
    "To enable the following instructions: AVX2 FMA, in other operations, rebuild TensorFlow with the appropriate compiler flags.\n",
    "Found 632 images belonging to 2 classes.\n",
    "Found 0 images belonging to 0 classes.\n",
    "Epoch 1/10\n",
    "2023-05-13 12:09:46.900541: I tensorflow/core/common_runtime/executor.cc:1197] [/device:CPU:0] (DEBUG INFO) Executor start aborting (this does not indicate an error and you can ignore this message): INVALID_ARGUMENT: You must feed a value for placeholder tensor 'Placeholder/_0' with dtype int32\n",
    "\t [[{{node Placeholder/_0}}]]\n",
    "20/20 [==============================] - 43s 2s/step - loss: 324.0111 - accuracy: 0.8544\n",
    "Epoch 2/10\n",
    "20/20 [==============================] - 43s 2s/step - loss: 24.9685 - accuracy: 0.8750\n",
    "Epoch 3/10\n",
    "20/20 [==============================] - 41s 2s/step - loss: 3.6275 - accuracy: 0.9589\n",
    "Epoch 4/10\n",
    "20/20 [==============================] - 42s 2s/step - loss: 0.4914 - accuracy: 0.9794\n",
    "Epoch 5/10\n",
    "20/20 [==============================] - 41s 2s/step - loss: 0.0885 - accuracy: 0.9953\n",
    "Epoch 6/10\n",
    "20/20 [==============================] - 41s 2s/step - loss: 0.0046 - accuracy: 0.9968\n",
    "Epoch 7/10\n",
    "20/20 [==============================] - 41s 2s/step - loss: 2.2513e-09 - accuracy: 1.0000\n",
    "Epoch 8/10\n",
    "20/20 [==============================] - 41s 2s/step - loss: 1.0195e-07 - accuracy: 1.0000\n",
    "Epoch 9/10\n",
    "20/20 [==============================] - 41s 2s/step - loss: 1.6961e-07 - accuracy: 1.0000\n",
    "Epoch 10/10\n",
    "20/20 [==============================] - 41s 2s/step - loss: 1.6431e-07 - accuracy: 1.0000\n",
    "\n",
    "```"
   ]
  }
 ],
 "metadata": {
  "kernelspec": {
   "display_name": "Python 3",
   "language": "python",
   "name": "python3"
  },
  "language_info": {
   "codemirror_mode": {
    "name": "ipython",
    "version": 3
   },
   "file_extension": ".py",
   "mimetype": "text/x-python",
   "name": "python",
   "nbconvert_exporter": "python",
   "pygments_lexer": "ipython3",
   "version": "3.11.2"
  }
 },
 "nbformat": 4,
 "nbformat_minor": 2
}